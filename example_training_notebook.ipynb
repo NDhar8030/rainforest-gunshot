{
 "cells": [
  {
   "cell_type": "code",
   "execution_count": 1,
   "id": "40aa2b7e",
   "metadata": {
    "id": "40aa2b7e"
   },
   "outputs": [],
   "source": [
    "import os\n",
    "# 0 = all, 1 = INFO, 2 = WARNING, 3 = ERROR\n",
    "os.environ['TF_CPP_MIN_LOG_LEVEL'] = '2'\n",
    "import tensorflow as tf\n",
    "tf.get_logger().setLevel('ERROR')\n",
    "import tensorflow_io as tfio\n",
    "from matplotlib import pyplot as plt\n",
    "import matplotlib\n",
    "import numpy as np\n",
    "#import audiomentations -- using tf for augmentations now\n",
    "import keras\n",
    "from keras import layers\n",
    "import random\n",
    "import glob\n",
    "import math\n",
    "import csv\n",
    "import time\n",
    "from datetime import datetime"
   ]
  },
  {
   "cell_type": "code",
   "execution_count": 2,
   "id": "914f4218",
   "metadata": {
    "id": "914f4218"
   },
   "outputs": [],
   "source": [
    "from sklearn.metrics import (\n",
    "    accuracy_score,\n",
    "    precision_score,\n",
    "    recall_score,\n",
    "    f1_score,\n",
    "    roc_auc_score,\n",
    "    classification_report,\n",
    "    confusion_matrix,\n",
    "    precision_recall_curve,\n",
    "    log_loss,\n",
    "    auc,\n",
    "    average_precision_score\n",
    ")\n",
    "from scipy.interpolate import interp1d"
   ]
  },
  {
   "cell_type": "code",
   "execution_count": 3,
   "id": "4d55ceef",
   "metadata": {
    "id": "4d55ceef"
   },
   "outputs": [],
   "source": [
    "from tensorflow.keras.models import Model\n",
    "from tensorflow.keras.layers import Input, Conv2D, Flatten, BatchNormalization, Activation, MaxPooling2D, Dropout, GlobalAveragePooling2D, Reshape, Dense, Multiply, Concatenate, LSTM, Permute, RepeatVector, Softmax, Lambda"
   ]
  },
  {
   "cell_type": "code",
   "execution_count": 4,
   "id": "cdfa99f5",
   "metadata": {
    "colab": {
     "base_uri": "https://localhost:8080/"
    },
    "id": "cdfa99f5",
    "outputId": "a4ffa66d-bc80-4a57-9ad8-468faeedb44e"
   },
   "outputs": [
    {
     "name": "stdout",
     "output_type": "stream",
     "text": [
      "2.8.0\n"
     ]
    }
   ],
   "source": [
    "print(tf.__version__)"
   ]
  },
  {
   "cell_type": "code",
   "execution_count": 5,
   "id": "f9a8fef4",
   "metadata": {
    "colab": {
     "base_uri": "https://localhost:8080/"
    },
    "id": "f9a8fef4",
    "outputId": "cd97e932-9424-446f-b54b-2b18b25005b2"
   },
   "outputs": [
    {
     "name": "stdout",
     "output_type": "stream",
     "text": [
      "[PhysicalDevice(name='/physical_device:GPU:0', device_type='GPU')]\n"
     ]
    }
   ],
   "source": [
    "print(tf.config.list_physical_devices('GPU'))"
   ]
  },
  {
   "cell_type": "code",
   "execution_count": 6,
   "id": "gZqM5-ZCAoRT",
   "metadata": {
    "colab": {
     "base_uri": "https://localhost:8080/"
    },
    "id": "gZqM5-ZCAoRT",
    "outputId": "eb581c6b-ea5b-4b24-b133-dd8fa7977403"
   },
   "outputs": [
    {
     "name": "stdout",
     "output_type": "stream",
     "text": [
      "Total RAM:     34.29 GB\n",
      "Available RAM: 13.52 GB\n",
      "Used RAM:      20.77 GB\n",
      "RAM Usage:     60.6%\n"
     ]
    }
   ],
   "source": [
    "import psutil\n",
    "\n",
    "mem = psutil.virtual_memory()\n",
    "print(f\"Total RAM:     {mem.total / 1e9:.2f} GB\")\n",
    "print(f\"Available RAM: {mem.available / 1e9:.2f} GB\")\n",
    "print(f\"Used RAM:      {mem.used / 1e9:.2f} GB\")\n",
    "print(f\"RAM Usage:     {mem.percent}%\")"
   ]
  },
  {
   "cell_type": "markdown",
   "id": "e17b9c4c",
   "metadata": {
    "id": "e17b9c4c"
   },
   "source": [
    "## Set Paths"
   ]
  },
  {
   "cell_type": "code",
   "execution_count": 7,
   "id": "cf297645",
   "metadata": {
    "colab": {
     "base_uri": "https://localhost:8080/"
    },
    "id": "cf297645",
    "outputId": "e2974a17-894b-44f8-e033-a3ecbb50de2c"
   },
   "outputs": [
    {
     "name": "stdout",
     "output_type": "stream",
     "text": [
      "c:\\Users\\foxir\\OneDrive\\Desktop\\Smart Rock\\gunshot-detection\\model\\working directory\\new notebooks\\seeded experiments\\rainforest-gunshot\n",
      "C:\\Users\\foxir\\OneDrive\\Desktop\\Smart Rock\\gunshot-detection\\model\\working directory\\new notebooks\n"
     ]
    }
   ],
   "source": [
    "print(os.getcwd())\n",
    "os.chdir('C:\\\\Users\\\\foxir\\\\OneDrive\\\\Desktop\\\\Smart Rock\\\\gunshot-detection\\\\model\\\\working directory\\\\new notebooks')\n",
    "print(os.getcwd())"
   ]
  },
  {
   "cell_type": "code",
   "execution_count": 8,
   "id": "a38af571",
   "metadata": {
    "id": "a38af571"
   },
   "outputs": [],
   "source": [
    "val_NEG = os.path.join('belize-data', 'Validation data', 'Background')\n",
    "val_POS = os.path.join('belize-data', 'Validation data', 'Gunshot')\n",
    "train_NEG = os.path.join('belize-data', 'Training data', 'Background')\n",
    "train_POS = os.path.join('belize-data', 'Training data', 'Gunshot')\n",
    "\n",
    "val_neg = [[(val_NEG+'\\\\'+item), 0] for item in os.listdir(val_NEG)]\n",
    "del(val_neg[8]) # Contains clipped gunshot\n",
    "val_pos = [[(val_POS+'\\\\'+item), 1] for item in os.listdir(val_POS)]\n",
    "train_neg = [[(train_NEG+'\\\\'+item), 0] for item in os.listdir(train_NEG)]\n",
    "train_pos = [[(train_POS+'\\\\'+item), 1] for item in os.listdir(train_POS)]\n",
    "\n",
    "full_train = train_pos+train_neg\n",
    "full_val = val_pos+val_neg\n",
    "\n",
    "random.seed(42) # max distance between positives is 222, allowing a batch size of 256 to always include a positive when not upsampling\n",
    "random.shuffle(full_train)\n",
    "random.shuffle(full_val)\n",
    "\n",
    "t_filepaths = [x[0] for x in full_train]\n",
    "t_labels = [x[1] for x in full_train]\n",
    "\n",
    "v_filepaths = [x[0] for x in full_val]\n",
    "v_labels = [x[1] for x in full_val]"
   ]
  },
  {
   "cell_type": "code",
   "execution_count": 9,
   "id": "522f4a9d",
   "metadata": {
    "id": "522f4a9d"
   },
   "outputs": [],
   "source": [
    "# Convert python list to tf.constant for gpu-accel augmentation during training\n",
    "bg_files = [item[0] for item in train_neg]\n",
    "bg_files = tf.constant(bg_files, dtype=tf.string)"
   ]
  },
  {
   "cell_type": "code",
   "execution_count": 10,
   "id": "1259ed75",
   "metadata": {
    "colab": {
     "base_uri": "https://localhost:8080/"
    },
    "id": "1259ed75",
    "outputId": "815be68c-61ba-43de-d37c-3b56c545a287"
   },
   "outputs": [
    {
     "name": "stdout",
     "output_type": "stream",
     "text": [
      "Mean distance between 1s: 48.08221476510067\n",
      "Max distance between 1s: 390\n",
      "Stdev between 1s: 48.7684394910974\n"
     ]
    }
   ],
   "source": [
    "# Get indices\n",
    "indices = [i for i, value in enumerate(t_labels) if value == 1]\n",
    "\n",
    "# Compute distances between consecutive indices\n",
    "distances = [indices[i+1] - indices[i] for i in range(len(indices)-1)]\n",
    "\n",
    "#print(\"Indices of 1s:\", indices)\n",
    "#print(\"Distances between 1s:\", distances)\n",
    "print(\"Mean distance between 1s:\", np.mean(distances))\n",
    "print(\"Max distance between 1s:\", np.max(distances))\n",
    "print(\"Stdev between 1s:\", np.std(distances))"
   ]
  },
  {
   "cell_type": "code",
   "execution_count": 11,
   "id": "c7c52de2",
   "metadata": {
    "colab": {
     "base_uri": "https://localhost:8080/"
    },
    "id": "c7c52de2",
    "outputId": "a2cddb71-6a0a-4e61-d844-b33ffa09e7d4"
   },
   "outputs": [
    {
     "name": "stdout",
     "output_type": "stream",
     "text": [
      "Mean distance between 1s: 47.38255033557047\n",
      "Max distance between 1s: 483\n",
      "Stdev between 1s: 53.64068841745484\n"
     ]
    }
   ],
   "source": [
    "# Get indices\n",
    "indices = [i for i, value in enumerate(v_labels) if value == 1]\n",
    "\n",
    "# Compute distances between consecutive indices\n",
    "distances = [indices[i+1] - indices[i] for i in range(len(indices)-1)]\n",
    "\n",
    "#print(\"Indices of 1s:\", indices)\n",
    "#print(\"Distances between 1s:\", distances)\n",
    "print(\"Mean distance between 1s:\", np.mean(distances))\n",
    "print(\"Max distance between 1s:\", np.max(distances))\n",
    "print(\"Stdev between 1s:\", np.std(distances))"
   ]
  },
  {
   "cell_type": "code",
   "execution_count": null,
   "id": "msT4HqsJELg8",
   "metadata": {
    "id": "msT4HqsJELg8"
   },
   "outputs": [],
   "source": [
    "small_test_NEG = os.path.join('vietnam-data', 'imagesvietnamunbalanced_clips', 'test', 'noise')\n",
    "small_test_POS = os.path.join('vietnam-data', 'imagesvietnamunbalanced_clips', 'test', 'gunshot')\n",
    "\n",
    "small_test_pos = [[small_test_POS+'\\\\'+item, 1] for item in os.listdir(small_test_POS)]\n",
    "small_test_neg = [[small_test_NEG+'\\\\'+item, 0] for item in os.listdir(small_test_NEG)]\n",
    "\n",
    "full_small_test = small_test_pos + small_test_neg\n",
    "\n",
    "random.seed(42)\n",
    "random.shuffle(full_small_test)\n",
    "\n",
    "small_test_filepaths = [x[0] for x in full_small_test]\n",
    "small_test_labels = [x[1] for x in full_small_test]"
   ]
  },
  {
   "cell_type": "markdown",
   "id": "8d41cebe",
   "metadata": {
    "id": "8d41cebe"
   },
   "source": [
    "## Initialize Functions"
   ]
  },
  {
   "cell_type": "code",
   "execution_count": null,
   "id": "0a48c919",
   "metadata": {},
   "outputs": [],
   "source": [
    "# SAIL functions\n",
    "\n",
    "import numpy as np\n",
    "\n",
    "def combine_preds_vec(preds, eps=1e-12):\n",
    "    \"\"\"\n",
    "    Compute the SAIL inner (non-sigmoided) combination for n predictions.\n",
    "    Matches the mathematical definition:\n",
    "    \n",
    "      inner(p1,...,pn) = 1 -   sum_{1<=i<j<=n} (1-p_i)(1-p_j)\n",
    "                           -------------------------------\n",
    "                               sum_{k=1}^n p_k\n",
    "\n",
    "    - preds may be a 1D array of length N (treated as a single example)\n",
    "      or a 2D array of shape (B, N) for a batch of B examples.\n",
    "    - Returns a scalar (if 1D input) or an array of shape (B,).\n",
    "    - If sum_k p_k is numerically zero (<= eps) the function returns 0.0\n",
    "      for that row (consistent with a safe numerical convention).\n",
    "    \"\"\"\n",
    "    p = np.asarray(preds, dtype=np.float64)\n",
    "\n",
    "    # normalize input shape to (B, N)\n",
    "    squeezed = False\n",
    "    if p.ndim == 0:\n",
    "        raise ValueError(\"preds must be an array of length >= 1\")\n",
    "    if p.ndim == 1:\n",
    "        p = p[np.newaxis, :]\n",
    "        squeezed = True\n",
    "    elif p.ndim > 2:\n",
    "        raise ValueError(\"preds must be 1D or 2D (batch, features)\")\n",
    "\n",
    "    B, N = p.shape\n",
    "    if N == 0:\n",
    "        raise ValueError(\"No predictions provided (N == 0).\")\n",
    "\n",
    "    # N == 1: no pairwise terms, inner == p_1\n",
    "    if N == 1:\n",
    "        out = p[:, 0].astype(np.float64)\n",
    "        return out[0] if squeezed else out\n",
    "\n",
    "    # q_i = 1 - p_i\n",
    "    q = 1.0 - p                     # shape (B, N)\n",
    "    sum_q = np.sum(q, axis=1)       # shape (B,)\n",
    "    sum_q2 = np.sum(q * q, axis=1)  # shape (B,)\n",
    "\n",
    "    # sum_{i<j} q_i q_j = (sum_q^2 - sum_q2) / 2\n",
    "    numer = (sum_q * sum_q - sum_q2) / 2.0   # shape (B,)\n",
    "\n",
    "    denom = np.sum(p, axis=1)       # shape (B,)\n",
    "\n",
    "    # safe division: if denom is near zero, set inner to 0.0\n",
    "    safe = denom > eps\n",
    "    inner = np.zeros_like(denom, dtype=np.float64)\n",
    "    inner[safe] = 1.0 - (numer[safe] / (denom[safe] + eps))\n",
    "\n",
    "    return inner[0] if squeezed else inner\n",
    "\n",
    "def sigmoid_pred_vec(pf):\n",
    "    \"\"\"\n",
    "    Numerically stable sigmoid-like mapping used in original code:\n",
    "      x = 10*(pf - 0.5) and then logistic(x) with clipping to avoid overflow.\n",
    "    Accepts scalar, 1D, or ND arrays and returns same shape.\n",
    "    \"\"\"\n",
    "    pf = np.asarray(pf, dtype=np.float64)\n",
    "    x = 10.0 * (pf - 0.5)\n",
    "    # clip to avoid extreme exponentials\n",
    "    x = np.clip(x, -10.0, 10.0)\n",
    "\n",
    "    # stable computation\n",
    "    out = np.empty_like(x)\n",
    "    pos = x >= 0\n",
    "    if np.any(pos):\n",
    "        out[pos] = 1.0 / (1.0 + np.exp(-x[pos]))\n",
    "    if np.any(~pos):\n",
    "        ex = np.exp(x[~pos])\n",
    "        out[~pos] = ex / (1.0 + ex)\n",
    "    return out\n",
    "\n",
    "def sail_preds_vec(preds, start=1):\n",
    "    \"\"\"\n",
    "    Generalized SAIL prediction combiner.\n",
    "    preds: array-like shape (B, N) or (N,)\n",
    "    start: integer column index to start using predictions from (default 1\n",
    "           to preserve previous behaviour that ignored column 0).\n",
    "           Set start=0 to use all columns.\n",
    "    Returns: sigmoid(combined) of shape (B,) or scalar if input was 1D.\n",
    "    \"\"\"\n",
    "    arr = np.asarray(preds, dtype=np.float64)\n",
    "    if arr.ndim == 1:\n",
    "        p = arr[start:]\n",
    "    else:\n",
    "        if start < 0 or start > arr.shape[1]:\n",
    "            raise IndexError(\"start index out of range for preds columns.\")\n",
    "        p = arr[:, start:]\n",
    "\n",
    "    combined = combine_preds_vec(p)\n",
    "    return sigmoid_pred_vec(combined)"
   ]
  },
  {
   "cell_type": "code",
   "execution_count": 13,
   "id": "f0cc9d9a",
   "metadata": {
    "id": "f0cc9d9a"
   },
   "outputs": [],
   "source": [
    "desired_sr = 8000\n",
    "\n",
    "@tf.function\n",
    "def load_wav_8k_mono_tf(filename, label):\n",
    "    file_contents = tf.io.read_file(filename)\n",
    "    wav, sample_rate = tf.audio.decode_wav(file_contents, desired_channels=1)\n",
    "    sample_rate = tf.cast(sample_rate, dtype=tf.int64)\n",
    "    # resample wav if sample rate is not as desired\n",
    "    wav = tf.cond(tf.not_equal(sample_rate, desired_sr),\n",
    "                  lambda: tfio.audio.resample(wav, rate_in=sample_rate, rate_out=desired_sr),\n",
    "                  lambda: wav)\n",
    "    wav = tf.squeeze(wav, axis=-1)\n",
    "    label = tf.cast(label, dtype=tf.float32)\n",
    "    return wav, label\n",
    "\n",
    "@tf.function\n",
    "def load_wav_8k_mono_tf_nolabel(filename):\n",
    "    file_contents = tf.io.read_file(filename)\n",
    "    wav, sample_rate = tf.audio.decode_wav(file_contents, desired_channels=1)\n",
    "    sample_rate = tf.cast(sample_rate, dtype=tf.int64)\n",
    "    # resample wav if sample rate is not as desired\n",
    "    wav = tf.cond(tf.not_equal(sample_rate, desired_sr),\n",
    "                  lambda: tfio.audio.resample(wav, rate_in=sample_rate, rate_out=desired_sr),\n",
    "                  lambda: wav)\n",
    "    wav = tf.squeeze(wav, axis=-1)\n",
    "    return wav"
   ]
  },
  {
   "cell_type": "code",
   "execution_count": 14,
   "id": "7ede272d",
   "metadata": {
    "id": "7ede272d"
   },
   "outputs": [],
   "source": [
    "sample_rate = 8000\n",
    "mel_spec_length = 24000\n",
    "frame_length = 256\n",
    "frame_step = 128\n",
    "mel_bins = 50\n",
    "fmax = 2000\n",
    "fmin = 50\n",
    "\n",
    "@tf.function\n",
    "def preprocess_mel_db_tf(wav, label):\n",
    "\n",
    "    # pad wav if too short and cut it if too long\n",
    "    wav_len = tf.shape(wav)[0]\n",
    "    wav = tf.cond(wav_len > mel_spec_length,\n",
    "                  lambda: wav[:mel_spec_length],\n",
    "                  lambda: tf.cond(wav_len < mel_spec_length,\n",
    "                                  lambda: tf.concat([wav, tf.zeros([mel_spec_length - wav_len], dtype=tf.float32)], axis=0),\n",
    "                                  lambda: wav))\n",
    "\n",
    "    # create the spectrogram\n",
    "    spectrogram = tfio.audio.spectrogram(wav, frame_length, frame_length, frame_step)\n",
    "    mel_spectrogram = tfio.audio.melscale(spectrogram, sample_rate, mel_bins, fmin, fmax)\n",
    "    dbscale_mel_spectrogram = tfio.audio.dbscale(mel_spectrogram, top_db=80)\n",
    "\n",
    "    # add a dimension for Conv2D input --not needed if augmenting the spectrogram\n",
    "    #dbscale_mel_spectrogram = tf.expand_dims(dbscale_mel_spectrogram, axis=2)\n",
    "\n",
    "    return dbscale_mel_spectrogram, label\n",
    "\n",
    "@tf.function\n",
    "def preprocess_mel_db_tf_nolabel(wav):\n",
    "\n",
    "    # pad wav if too short and cut it if too long\n",
    "    wav_len = tf.shape(wav)[0]\n",
    "    wav = tf.cond(wav_len > mel_spec_length,\n",
    "                  lambda: wav[:mel_spec_length],\n",
    "                  lambda: tf.cond(wav_len < mel_spec_length,\n",
    "                                  lambda: tf.concat([wav, tf.zeros([mel_spec_length - wav_len], dtype=tf.float32)], axis=0),\n",
    "                                  lambda: wav))\n",
    "\n",
    "    # create the spectrogram\n",
    "    spectrogram = tfio.audio.spectrogram(wav, frame_length, frame_length, frame_step)\n",
    "    mel_spectrogram = tfio.audio.melscale(spectrogram, sample_rate, mel_bins, fmin, fmax)\n",
    "    dbscale_mel_spectrogram = tfio.audio.dbscale(mel_spectrogram, top_db=80)\n",
    "\n",
    "    return dbscale_mel_spectrogram"
   ]
  },
  {
   "cell_type": "code",
   "execution_count": 15,
   "id": "8c196c1b",
   "metadata": {
    "id": "8c196c1b"
   },
   "outputs": [],
   "source": [
    "# Helpers\n",
    "def rand_uniform(low, high):\n",
    "    # Return a random float in the bounds\n",
    "    return tf.random.uniform([], low, high)\n",
    "\n",
    "def apply_with_p(p, fn, x):\n",
    "    # Apply fn(x) with probability p, else return x.\n",
    "    return tf.cond(tf.less(tf.random.uniform([], 0, 1), p),\n",
    "                   lambda: fn(x),\n",
    "                   lambda: x)\n",
    "\n",
    "def freq_mask(spec, min_part=0.02,max_part=0.05, min_masks=1, max_masks=5):\n",
    "    freq_len = tf.shape(spec)[1]\n",
    "    # pick how many masks to apply\n",
    "    num_masks = tf.random.uniform(\n",
    "        [], minval=min_masks, maxval=max_masks + 1, dtype=tf.int32)\n",
    "\n",
    "    def apply_one_mask(s, _):\n",
    "        # 1) choose mask size in bins\n",
    "        part = tf.random.uniform([], minval=min_part, maxval=max_part)\n",
    "        mask_size = tf.cast(part * tf.cast(freq_len, tf.float32), tf.int32)\n",
    "\n",
    "        # 2) choose start bin\n",
    "        start = tf.random.uniform([], 0, freq_len - mask_size, dtype=tf.int32)\n",
    "\n",
    "        # 3) build 1-D mask [freq_len]\n",
    "        mask1d = tf.concat([\n",
    "            tf.ones([start], dtype=s.dtype),\n",
    "            tf.zeros([mask_size], dtype=s.dtype),\n",
    "            tf.ones([freq_len - start - mask_size], dtype=s.dtype),\n",
    "        ], axis=0)\n",
    "\n",
    "        # 4) broadcast to [time, freq]\n",
    "        mask2d = tf.expand_dims(mask1d, 0)\n",
    "\n",
    "        # 5) replace masked bins by min value in spec\n",
    "        min_val = tf.reduce_min(s)\n",
    "        return s * mask2d + min_val * (1.0 - mask2d)\n",
    "\n",
    "    # fold over a range to apply masks\n",
    "    masked = tf.foldl(apply_one_mask,\n",
    "                      elems=tf.range(num_masks),\n",
    "                      initializer=spec)\n",
    "    return masked\n",
    "\n",
    "# Compose them all\n",
    "@tf.function\n",
    "def augment_spec_tf(spec, label):\n",
    "    x = spec\n",
    "    x = apply_with_p(0.3, lambda s: freq_mask(s, 0.01, 0.03, 1, 1), x)\n",
    "    return x, label"
   ]
  },
  {
   "cell_type": "code",
   "execution_count": 16,
   "id": "db21d8ed",
   "metadata": {
    "id": "db21d8ed"
   },
   "outputs": [],
   "source": [
    "# Helpers\n",
    "def rand_uniform(low, high):\n",
    "    # Return a random float in the bounds\n",
    "    return tf.random.uniform([], low, high)\n",
    "\n",
    "def apply_with_p(p, fn, x):\n",
    "    # Apply fn(x) with probability p, else return x.\n",
    "    return tf.cond(tf.less(tf.random.uniform([], 0, 1), p),\n",
    "                   lambda: fn(x),\n",
    "                   lambda: x)\n",
    "\n",
    "# 1) AddGaussianSNR\n",
    "def add_gaussian_snr(wav, min_snr=16.0, max_snr=32.0):\n",
    "    rms_signal = tf.sqrt(tf.reduce_mean(wav**2))\n",
    "    snr_db = rand_uniform(min_snr, max_snr)\n",
    "    snr = 10.0**(snr_db / 20.0)\n",
    "    noise_rms = rms_signal / snr\n",
    "    noise = tf.random.normal(tf.shape(wav)) * noise_rms\n",
    "    return wav + noise\n",
    "\n",
    "# 2) Gain (scalar amplification)\n",
    "def gain(wav, min_db=-8.0, max_db=24.0):\n",
    "    db = rand_uniform(min_db, max_db)\n",
    "    factor = 10.0**(db / 20.0)\n",
    "    return wav * factor\n",
    "\n",
    "'''# 3) TimeStretch (speed perturbation via resampling) --> CREATES ARTIFACTS\n",
    "def time_stretch(wav, sr=8000, min_rate=0.9, max_rate=1.112):\n",
    "    length = tf.shape(wav)[0]\n",
    "\n",
    "    # 1) pick random speed factor\n",
    "    rate = rand_uniform(min_rate, max_rate)\n",
    "\n",
    "    # 2) compute a new “output sample rate” to feed into resample\n",
    "    sr_out = tf.cast(tf.cast(sr, tf.float32) * rate, tf.int64)\n",
    "\n",
    "    # 3) resample from 8 k → sr_out\n",
    "    stretched = tfio.audio.resample(wav, rate_in=sr, rate_out=sr_out)\n",
    "\n",
    "    # 4) pad or trim back to original length\n",
    "    stretched_len = tf.shape(stretched)[0]\n",
    "    return tf.cond(\n",
    "        stretched_len < length,\n",
    "        lambda: tf.pad(stretched, [[0, length - stretched_len]]),\n",
    "        lambda: stretched[:length]\n",
    "    )'''\n",
    "\n",
    "# 4) PitchShift (via resampling)\n",
    "def naive_pitch_shift(wav, sample_rate=8000, min_semi=-4.0, max_semi=4.0):\n",
    "    semi = rand_uniform(min_semi, max_semi)\n",
    "    rate = 2 ** (semi / 12.0)\n",
    "    # compute rate in Hz\n",
    "    rate_in_hz = tf.cast(sample_rate, tf.int64)\n",
    "    rate_out_hz = tf.cast(tf.math.round(sample_rate * rate), tf.int64)\n",
    "    print(rate_out_hz)\n",
    "    # directly resample: shortens/lengthens + shifts pitch\n",
    "    shifted = tfio.audio.resample(wav, rate_in=rate_in_hz, rate_out=rate_out_hz)\n",
    "    return shifted\n",
    "\n",
    "# 5) Shift (roll the signal in time)\n",
    "def shift(wav, min_shift=-0.5, max_shift=0.5):\n",
    "    frac = rand_uniform(min_shift, max_shift)\n",
    "    shift_amt = tf.cast(frac * tf.cast(tf.shape(wav)[0], tf.float32), tf.int32)\n",
    "    return tf.roll(wav, shift=shift_amt, axis=0)\n",
    "\n",
    "# 6) AddBackgroundNoise (mix a random bg clip at given SNR)\n",
    "#   Assumes `bg_files` is a tf.Tensor of strings passed in as a constant.\n",
    "def add_background_noise(wav, bg_files, min_snr=5.0, max_snr=24.0):\n",
    "    # Pick one bg file (at graph build time bg_files must be a tf.constant)\n",
    "    idx = tf.random.uniform([], 0, tf.shape(bg_files)[0], dtype=tf.int32)\n",
    "    bg_path = bg_files[idx]\n",
    "    bg_audio, _ = load_wav_8k_mono_tf(bg_path, label=3)  # reuse your loader\n",
    "    bg_audio = bg_audio[:tf.shape(wav)[0]]\n",
    "    bg_audio = tf.pad(bg_audio, [[0, tf.maximum(0, tf.shape(wav)[0] - tf.shape(bg_audio)[0])]])\n",
    "    # Scale bg to desired SNR\n",
    "    rms_w = tf.sqrt(tf.reduce_mean(wav**2))\n",
    "    snr_db = rand_uniform(min_snr, max_snr)\n",
    "    snr = 10.0**(snr_db / 20.0)\n",
    "    rms_bg = tf.sqrt(tf.reduce_mean(bg_audio**2))\n",
    "    scale = rms_w / (snr * (rms_bg + 1e-8))\n",
    "    return wav + bg_audio * scale\n",
    "\n",
    "# 7) TimeMask (mask a random time segment to zero)\n",
    "def time_mask(wav, min_part=0.02, max_part=0.05, min_masks=1, max_masks=4):\n",
    "    length = tf.shape(wav)[0]\n",
    "    num_masks = tf.random.uniform([], minval=min_masks, maxval=max_masks + 1, dtype=tf.int32)\n",
    "    def apply_one_mask(wav, _):\n",
    "        mask_size = tf.cast(rand_uniform(min_part, max_part) * tf.cast(length, tf.float32), tf.int32)\n",
    "        start = tf.random.uniform([], 0, length - mask_size, dtype=tf.int32)\n",
    "        mask = tf.concat([\n",
    "            tf.ones([start], dtype=wav.dtype),\n",
    "            tf.zeros([mask_size], dtype=wav.dtype),\n",
    "            tf.ones([length - start - mask_size], dtype=wav.dtype)\n",
    "        ], axis=0)\n",
    "        return wav * mask\n",
    "    # fold over a range to apply masks\n",
    "    masked = tf.foldl(apply_one_mask,\n",
    "                      elems=tf.range(num_masks),\n",
    "                      initializer=wav)\n",
    "    return masked\n",
    "\n",
    "# Compose them all\n",
    "@tf.function\n",
    "def augment_waveform_tf(wav, label):\n",
    "    x = wav\n",
    "    x = apply_with_p(0.3, lambda w: add_gaussian_snr(w, 16.0, 32.0), x)\n",
    "    x = apply_with_p(1.0, lambda w: add_background_noise(w, bg_files, 16, 24), x)\n",
    "    x = apply_with_p(0.3, lambda w: gain(w, -8.0, 8.0), x)\n",
    "    x = apply_with_p(0.3, lambda w: shift(w, 0.25, 0.5), x)\n",
    "    x = apply_with_p(0.3, lambda w: naive_pitch_shift(w, 8000, -2.0, 2.0), x)\n",
    "    x = apply_with_p(0.3, lambda w: time_mask(w, 0.01, 0.03, 1, 1), x)\n",
    "    return x, label"
   ]
  },
  {
   "cell_type": "code",
   "execution_count": 17,
   "id": "cfca1e64",
   "metadata": {
    "id": "cfca1e64"
   },
   "outputs": [],
   "source": [
    "@tf.function\n",
    "def expand_spec_dim_tf(spec, label):\n",
    "    spec = tf.expand_dims(spec, axis=-1)\n",
    "    return spec, label"
   ]
  },
  {
   "cell_type": "code",
   "execution_count": 18,
   "id": "e9dac4b2",
   "metadata": {
    "id": "e9dac4b2"
   },
   "outputs": [],
   "source": [
    "@tf.function\n",
    "def expand_spec_dim_tf_nolabel(spec):\n",
    "    spec = tf.expand_dims(spec, axis=-1)\n",
    "    return spec"
   ]
  },
  {
   "cell_type": "code",
   "execution_count": null,
   "id": "068370e8",
   "metadata": {
    "id": "068370e8"
   },
   "outputs": [],
   "source": [
    "def change_label_type(filename, label):\n",
    "    label = int(label)\n",
    "    label = tf.cast(label, tf.float32)\n",
    "    return filename, label\n",
    "\n",
    "def get_preds(filepaths, model):\n",
    "  start = time.time()\n",
    "  ds = tf.data.Dataset.from_tensor_slices(filepaths)\n",
    "  ds = ds.map(load_wav_8k_mono_tf_nolabel, num_parallel_calls=tf.data.AUTOTUNE)\n",
    "  ds = ds.map(preprocess_mel_db_tf_nolabel, num_parallel_calls=tf.data.AUTOTUNE)\n",
    "  ds = ds.map(expand_spec_dim_tf_nolabel)\n",
    "  ds = ds.batch(128)\n",
    "  ds = ds.prefetch(tf.data.AUTOTUNE)\n",
    "\n",
    "  start = time.time()\n",
    "  for _ in ds.take(1):\n",
    "      pass\n",
    "  print(f'Time to build and fetch one batch: {time.time() - start:.2f}s')\n",
    "\n",
    "  start = time.time()\n",
    "  y_preds = model.predict(ds)\n",
    "  print(f'Time to process files and perform inference: {time.time()-start}')\n",
    "  return y_preds\n",
    "\n",
    "def get_metrics_custom(labels, preds, filepaths, threshold, make_csv=bool, make_true_specs=bool, num_true_specs=int, make_misclassified_specs=bool, num_misclassified_specs=int, model_name=str):\n",
    "    true_positives = 0\n",
    "    true_negatives = 0\n",
    "    false_positives = 0\n",
    "    false_negatives = 0\n",
    "    misclassified_files = []\n",
    "\n",
    "    for i in range(len(labels)):\n",
    "        pred = ((preds[i])[0])\n",
    "        label = labels[i]\n",
    "        filepath = filepaths[i]\n",
    "        if pred < threshold and label==0:\n",
    "            true_negatives += 1\n",
    "            prediction_type = 'TN'\n",
    "            distance = abs(label - pred)\n",
    "            misclassified_files.append([filepath, label, pred, prediction_type, distance, threshold])\n",
    "            if make_true_specs and (true_positives + true_negatives) < num_true_specs:\n",
    "                print(label, pred, prediction_type, filepath)\n",
    "                wav = load_wav_8k_mono_tf_nolabel(filepath)\n",
    "                spec = preprocess_mel_db_tf_nolabel(wav)\n",
    "                plt.figure()\n",
    "                plt.imshow(tf.transpose(spec))\n",
    "                plt.show()\n",
    "        elif pred < threshold and label==1:\n",
    "            false_negatives += 1\n",
    "            prediction_type = 'FN'\n",
    "            distance = abs(label - pred)\n",
    "            misclassified_files.append([filepath, label, pred, prediction_type, distance, threshold])\n",
    "            if make_misclassified_specs and (false_negatives + false_positives) < num_misclassified_specs:\n",
    "                print(label, pred, prediction_type, filepath)\n",
    "                wav = load_wav_8k_mono_tf_nolabel(filepath)\n",
    "                spec = preprocess_mel_db_tf_nolabel(wav)\n",
    "                plt.figure()\n",
    "                plt.imshow(tf.transpose(spec))\n",
    "                plt.show()\n",
    "        elif pred >= threshold and label==0:\n",
    "            false_positives += 1\n",
    "            prediction_type = 'FP'\n",
    "            distance = abs(label - pred)\n",
    "            misclassified_files.append([filepath, label, pred, prediction_type, distance, threshold])\n",
    "            if make_misclassified_specs and (false_negatives + false_positives) < num_misclassified_specs:\n",
    "                print(label, pred, prediction_type, filepath)\n",
    "                wav = load_wav_8k_mono_tf_nolabel(filepath)\n",
    "                spec = preprocess_mel_db_tf_nolabel(wav)\n",
    "                plt.figure()\n",
    "                plt.imshow(tf.transpose(spec))\n",
    "                plt.show()\n",
    "        elif pred >= threshold and label==1:\n",
    "            true_positives += 1\n",
    "            prediction_type = 'TP'\n",
    "            distance = abs(label - pred)\n",
    "            misclassified_files.append([filepath, label, pred, prediction_type, distance, threshold])\n",
    "            if make_true_specs and (true_positives + true_negatives) < num_true_specs:\n",
    "                print(label, pred, prediction_type, filepath)\n",
    "                wav = load_wav_8k_mono_tf_nolabel(filepath)\n",
    "                spec = preprocess_mel_db_tf_nolabel(wav)\n",
    "                plt.figure()\n",
    "                plt.imshow(tf.transpose(spec))\n",
    "                plt.show()\n",
    "\n",
    "    precision = true_positives / (true_positives + false_positives + 1e-5)\n",
    "    recall = true_positives / (true_positives + false_negatives + 1e-5)\n",
    "    f1 = 2*(precision*recall) / (precision + recall + 1e-5)\n",
    "    accuracy = (true_positives + true_negatives) / (true_positives + true_negatives + false_positives + false_negatives)\n",
    "    print(f\"Evaluation Metrics for {model_name}:\")\n",
    "    print(f\"True Positives: {true_positives}\")\n",
    "    print(f\"True Negatives: {true_negatives}\")\n",
    "    print(f\"False Positives: {false_positives}\")\n",
    "    print(f\"False Negatives: {false_negatives}\")\n",
    "    print(f\"Accuracy: {accuracy:.4f}\")\n",
    "    print(f\"Precision: {precision:.4f}\")\n",
    "    print(f\"Recall: {recall:.4f}\")\n",
    "    print(f\"F1 Score: {f1:.4f}\")\n",
    "\n",
    "    if make_csv:\n",
    "        misclassified_files = sorted(misclassified_files, key=lambda x: x[4], reverse=True)\n",
    "        metrics_row = ['', '', '', '', '', '', '', 'Prediction Type', f'True Positives: {true_positives:.2f}', f'False Positives: {false_positives:.2f}', f'True Negatives: {true_negatives:.2f}', f'False Negatives: {false_negatives:.2f}', f'Accuracy: {accuracy:.2f}', f'Recall: {recall:.2f}', f'Precision: {precision:.2f}']\n",
    "        misclassified_files.insert(0, metrics_row)\n",
    "        now = datetime.now()\n",
    "        date = now.strftime(\"%m-%d-%Y,%H-%M-%S\")\n",
    "        with open(f'misclassified_files_{model_name}_{date}.csv','w', newline='') as out:\n",
    "            csv_out=csv.writer(out)\n",
    "            csv_out.writerow(['Filepath', 'Label', 'Prediction', 'Prediction Type', 'Distance', 'Threshold'])\n",
    "            for row in misclassified_files:\n",
    "                newline=''\n",
    "                csv_out.writerow(row)\n",
    "\n",
    "    return\n",
    "\n",
    "def get_pr_curve(y_true, y_pred_probs, save_figs=bool, model_name=str):\n",
    "    y_pred_probs = [pred for pred in y_pred_probs]\n",
    "    precision, recall, thresholds = precision_recall_curve(y_true, y_pred_probs)\n",
    "    area = auc(recall,precision)\n",
    "    avg_precision = average_precision_score(y_true, y_pred_probs)\n",
    "\n",
    "    # Calculate F1 scores for each threshold\n",
    "    f1_scores = 2 * (precision * recall) / (precision + recall + 1e-8)\n",
    "\n",
    "    # Find the best F1 score and its associated precision, recall, threshold\n",
    "    best_f1_idx = np.argmax(f1_scores)\n",
    "    best_f1 = f1_scores[best_f1_idx]\n",
    "    best_f1_precision = precision[best_f1_idx]\n",
    "    best_f1_recall = recall[best_f1_idx]\n",
    "    best_f1_threshold = thresholds[best_f1_idx if best_f1_idx < len(thresholds) else best_f1_idx-1]\n",
    "\n",
    "    # Find the point closest to (1,1) on the PR curve\n",
    "    distances = np.sqrt((1 - precision)**2 + (1 - recall)**2)\n",
    "    best_pr_idx = np.argmin(distances)\n",
    "    best_pr_precision = precision[best_pr_idx]\n",
    "    best_pr_recall = recall[best_pr_idx]\n",
    "    best_pr_threshold = thresholds[best_pr_idx if best_pr_idx < len(thresholds) else best_pr_idx-1]\n",
    "    best_pr_f1 = f1_scores[best_pr_idx]\n",
    "\n",
    "    # Interpolate precision as a function of recall\n",
    "    # Note: Recall values decrease in order for precision-recall curve, so we reverse them\n",
    "    recall_for_interp = recall[::-1]\n",
    "    precision_for_interp = precision[::-1]\n",
    "\n",
    "    # Create interpolator\n",
    "    precision_interp_func = interp1d(recall_for_interp, precision_for_interp, kind='linear', bounds_error=False, fill_value=\"extrapolate\")\n",
    "\n",
    "    # Get interpolated precision at recall = 0.95\n",
    "    recall_target = 0.95\n",
    "    precision_at_95_exact = float(precision_interp_func(recall_target))\n",
    "\n",
    "    # Plot metrics\n",
    "    plt.figure(figsize=(10,6))\n",
    "    plt.plot(recall, precision, label=f'Average Precision (AP) = {avg_precision:.3f})', color='blue')\n",
    "    plt.scatter(best_f1_recall, best_f1_precision, color='red', label=f'Best F1 (F1={best_f1:.3f}, Th={best_f1_threshold:.3f})')\n",
    "    plt.scatter(best_pr_recall, best_pr_precision, color='green', label=f'Precision of min distance: {best_pr_precision:.3f}, Recall of min distance={best_pr_recall:.3f}')\n",
    "\n",
    "    # Plot the No Skill classifier\n",
    "    no_skill = len([label for label in y_true if label==1]) / len(y_true)\n",
    "    plt.plot([0,1], [no_skill, no_skill], ls='--', color='black', label='No-Skill Classifier')\n",
    "\n",
    "    # Plot the exact point on PR curve\n",
    "    plt.scatter(0.95, precision_at_95_exact, color='orange', label=f'Interpolated Precision at Recall=0.95: {precision_at_95_exact:.3f}')\n",
    "    plt.axvline(0.95, color='orange', linestyle='--')\n",
    "\n",
    "    plt.xlabel('Recall')\n",
    "    plt.ylabel('Precision')\n",
    "    plt.title('Precision-Recall Curve')\n",
    "    plt.grid(True)\n",
    "    plt.legend()\n",
    "    if save_figs:\n",
    "        now = datetime.now()\n",
    "        date = now.strftime(\"%m-%d-%Y,%H-%M-%S\")\n",
    "        plt.savefig(f'PR_curve_{model_name}_{date}.png', bbox_inches='tight')\n",
    "    plt.show()\n",
    "    return best_f1_threshold\n",
    "\n",
    "\n",
    "def get_metrics_val(model, misclassified_file_csv=bool, save_pr_curve=bool, model_name=str):\n",
    "    print(\"Inference on Belizean Validation Dataset\")\n",
    "    y_preds = get_preds(v_filepaths, model)\n",
    "    get_metrics_custom(v_labels, y_preds, v_filepaths, 0.5, misclassified_file_csv, model_name)\n",
    "    get_pr_curve(v_labels, y_preds, save_pr_curve, model_name)\n",
    "\n",
    "def get_metrics_test(model, misclassified_file_csv=bool, save_pr_curve=bool, model_name=str):\n",
    "    print(\"Inference on Small Vietnam Test Dataset\")\n",
    "    y_preds_test = get_preds(small_test_filepaths, model)\n",
    "    get_metrics_custom(small_test_labels, y_preds_test, small_test_filepaths, 0.5, misclassified_file_csv, model_name)\n",
    "    get_pr_curve(small_test_labels, y_preds_test, save_pr_curve, model_name)\n",
    "\n",
    "def get_curves(hist, save_figs=bool):\n",
    "    val_precision = hist.history['val_precision']\n",
    "    val_recall = hist.history['val_recall']\n",
    "    val_loss = hist.history['val_loss']\n",
    "\n",
    "    # calculate validation F1 score\n",
    "    val_f1_score = [2 * (p * r) / (p + r + 1e-5) for p, r in zip(val_precision, val_recall)]\n",
    "\n",
    "    precision = hist.history['precision']\n",
    "    recall = hist.history['recall']\n",
    "    loss = hist.history['loss']\n",
    "\n",
    "    # calculate train F1 score\n",
    "    f1_score = [2 * (p * r) / (p + r + 1e-5) for p, r in zip(precision, recall)]\n",
    "\n",
    "    for i, metric in enumerate(['loss','recall','precision','f1_score']):\n",
    "        if i==3:\n",
    "            plt.figure()\n",
    "            plt.title('f1_score')\n",
    "            plt.plot(val_f1_score, 'b', label=f'Validation f1')\n",
    "            plt.plot(f1_score, 'r', label=f'Training f1')\n",
    "            plt.xlabel('Epochs')\n",
    "            plt.ylabel('f1_score')\n",
    "            plt.legend()\n",
    "            if save_figs==True:\n",
    "                plt.savefig('{metric}_curve',bbox_inches='tight')\n",
    "            plt.show()\n",
    "        else:\n",
    "            plt.figure()\n",
    "            plt.title(metric)\n",
    "            plt.plot((hist.history[metric]), 'r', label=('Training'+metric))\n",
    "            plt.plot((hist.history['val_'+metric]), 'b', label=('Validation'+metric))\n",
    "            plt.xlabel('Epochs')\n",
    "            plt.ylabel(metric)\n",
    "            plt.legend()\n",
    "            if save_figs==True:\n",
    "                plt.savefig('{metric}_curve',bbox_inches='tight')\n",
    "            plt.show()"
   ]
  },
  {
   "cell_type": "markdown",
   "id": "886f707d",
   "metadata": {
    "id": "886f707d"
   },
   "source": [
    "## Set Seed"
   ]
  },
  {
   "cell_type": "code",
   "execution_count": 25,
   "id": "f1e96e8c",
   "metadata": {
    "id": "f1e96e8c"
   },
   "outputs": [],
   "source": [
    "seed = 42\n",
    "os.environ['PYTHONHASHSEED'] = str(seed)\n",
    "random.seed(seed)\n",
    "np.random.seed(seed)\n",
    "tf.keras.utils.set_random_seed(seed)\n",
    "tf.random.set_seed(seed)"
   ]
  },
  {
   "cell_type": "markdown",
   "id": "3b11e155",
   "metadata": {
    "id": "3b11e155"
   },
   "source": [
    "## Train and Evaluate"
   ]
  },
  {
   "cell_type": "markdown",
   "id": "298dd2b0",
   "metadata": {
    "id": "298dd2b0",
    "jp-MarkdownHeadingCollapsed": true
   },
   "source": [
    "### Prepare Data"
   ]
  },
  {
   "cell_type": "code",
   "execution_count": null,
   "id": "4087abb8",
   "metadata": {
    "id": "4087abb8"
   },
   "outputs": [],
   "source": [
    "'''NO UPSAMPLING, NO AUGMENTING'''\n",
    "val_NEG = os.path.join('belize-data', 'Validation data', 'Background')\n",
    "val_POS = os.path.join('belize-data', 'Validation data', 'Gunshot')\n",
    "train_NEG = os.path.join('belize-data', 'Training data', 'Background')\n",
    "train_POS = os.path.join('belize-data', 'Training data', 'Gunshot')\n",
    "\n",
    "val_neg = [[(val_NEG+'\\\\'+item), 0] for item in os.listdir(val_NEG)]\n",
    "del(val_neg[8]) # Contains clipped gunshot\n",
    "val_pos = [[(val_POS+'\\\\'+item), 1] for item in os.listdir(val_POS)]\n",
    "train_neg = [[(train_NEG+'\\\\'+item), 0] for item in os.listdir(train_NEG)]\n",
    "train_pos = [[(train_POS+'\\\\'+item), 1] for item in os.listdir(train_POS)]\n",
    "\n",
    "full_train = train_pos+train_neg\n",
    "full_val = val_pos+val_neg\n",
    "\n",
    "random.seed(42)\n",
    "random.shuffle(full_train)\n",
    "random.shuffle(full_val)\n",
    "\n",
    "t_filepaths = [x[0] for x in full_train]\n",
    "t_labels = [x[1] for x in full_train]\n",
    "\n",
    "v_filepaths = [x[0] for x in full_val]\n",
    "v_labels = [x[1] for x in full_val]\n",
    "'''\n",
    "positives = [item for item in full_train if item[1] == 1]\n",
    "negatives = [item for item in full_train if item[1] == 0]\n",
    "print(f\"Length of positives before upsampling: {len(positives)}\")\n",
    "print(f\"Length of negatives before upsampling: {len(negatives)}\")\n",
    "\n",
    "random.seed(42)\n",
    "random.shuffle(positives)\n",
    "\n",
    "positives = positives*(math.floor(len(negatives)/len(positives)))\n",
    "positives.extend(positives[:((len(negatives))%(len(positives)))])\n",
    "\n",
    "print(f\"Length of positives after upsampling: {len(positives)}\")\n",
    "print(f\"Length of negatives after upsampling: {len(negatives)}\")\n",
    "\n",
    "random.seed(42)\n",
    "random.shuffle(positives)\n",
    "random.shuffle(negatives)\n",
    "\n",
    "upsampled_train = positives + negatives\n",
    "\n",
    "random.seed(42)\n",
    "random.shuffle(upsampled_train)\n",
    "t_filepaths = [x[0] for x in upsampled_train]\n",
    "t_labels = [x[1] for x in upsampled_train]\n",
    "'''\n",
    "train = tf.data.Dataset.from_tensor_slices((t_filepaths, t_labels))\n",
    "train = train.map(load_wav_8k_mono_tf, num_parallel_calls=tf.data.AUTOTUNE)\n",
    "# no \"perfect cardinality shuffle\" here to save time\n",
    "\n",
    "'''\n",
    "train = train.map(augment_waveform_tf, num_parallel_calls=tf.data.AUTOTUNE)\n",
    "train = train.map(preprocess_mel_db_tf, num_parallel_calls=tf.data.AUTOTUNE)\n",
    "train = train.map(augment_spec_tf, num_parallel_calls=tf.data.AUTOTUNE)\n",
    "'''\n",
    "train = train.map(preprocess_mel_db_tf, num_parallel_calls=tf.data.AUTOTUNE).map(expand_spec_dim_tf,num_parallel_calls=tf.data.AUTOTUNE).cache()\n",
    "train = train.shuffle(buffer_size=16384, reshuffle_each_iteration=True) # shuffle with larger buffer size every epoch because no augmentations\n",
    "\n",
    "val = tf.data.Dataset.from_tensor_slices((v_filepaths, v_labels))\n",
    "# no shuffling of val every epoch\n",
    "val = val.map(load_wav_8k_mono_tf, num_parallel_calls=tf.data.AUTOTUNE)\n",
    "val = val.map(preprocess_mel_db_tf, num_parallel_calls=tf.data.AUTOTUNE).map(expand_spec_dim_tf,num_parallel_calls=tf.data.AUTOTUNE)\n",
    "\n",
    "val = val.cache() # no dynamic augmentation but it doesn't matter because no augmentation"
   ]
  },
  {
   "cell_type": "code",
   "execution_count": 22,
   "id": "HSLPOtl9CiYW",
   "metadata": {
    "id": "HSLPOtl9CiYW"
   },
   "outputs": [
    {
     "name": "stdout",
     "output_type": "stream",
     "text": [
      "Tensor(\"cond_4/Cast_1:0\", shape=(), dtype=int64)\n"
     ]
    }
   ],
   "source": [
    "'''NO UPSAMPLING, YES AUGMENTING'''\n",
    "\n",
    "val_NEG = os.path.join('belize-data', 'Validation data', 'Background')\n",
    "val_POS = os.path.join('belize-data', 'Validation data', 'Gunshot')\n",
    "train_NEG = os.path.join('belize-data', 'Training data', 'Background')\n",
    "train_POS = os.path.join('belize-data', 'Training data', 'Gunshot')\n",
    "\n",
    "val_neg = [[(val_NEG+'\\\\'+item), 0] for item in os.listdir(val_NEG)]\n",
    "del(val_neg[8]) # Contains clipped gunshot\n",
    "val_pos = [[(val_POS+'\\\\'+item), 1] for item in os.listdir(val_POS)]\n",
    "train_neg = [[(train_NEG+'\\\\'+item), 0] for item in os.listdir(train_NEG)]\n",
    "train_pos = [[(train_POS+'\\\\'+item), 1] for item in os.listdir(train_POS)]\n",
    "\n",
    "full_train = train_pos+train_neg\n",
    "full_val = val_pos+val_neg\n",
    "\n",
    "random.seed(42)\n",
    "random.shuffle(full_train)\n",
    "random.shuffle(full_val)\n",
    "\n",
    "t_filepaths = [x[0] for x in full_train]\n",
    "t_labels = [x[1] for x in full_train]\n",
    "\n",
    "v_filepaths = [x[0] for x in full_val]\n",
    "v_labels = [x[1] for x in full_val]\n",
    "'''\n",
    "positives = [item for item in full_train if item[1] == 1]\n",
    "negatives = [item for item in full_train if item[1] == 0]\n",
    "print(f\"Length of positives before upsampling: {len(positives)}\")\n",
    "print(f\"Length of negatives before upsampling: {len(negatives)}\")\n",
    "\n",
    "random.seed(42)\n",
    "random.shuffle(positives)\n",
    "\n",
    "positives = positives*(math.floor(len(negatives)/len(positives)))\n",
    "positives.extend(positives[:((len(negatives))%(len(positives)))])\n",
    "\n",
    "print(f\"Length of positives after upsampling: {len(positives)}\")\n",
    "print(f\"Length of negatives after upsampling: {len(negatives)}\")\n",
    "\n",
    "random.seed(42)\n",
    "random.shuffle(positives)\n",
    "random.shuffle(negatives)\n",
    "\n",
    "upsampled_train = positives + negatives\n",
    "\n",
    "random.seed(42)\n",
    "random.shuffle(upsampled_train)\n",
    "t_filepaths = [x[0] for x in upsampled_train]\n",
    "t_labels = [x[1] for x in upsampled_train]\n",
    "'''\n",
    "train = tf.data.Dataset.from_tensor_slices((t_filepaths, t_labels))\n",
    "train = train.map(load_wav_8k_mono_tf, num_parallel_calls=tf.data.AUTOTUNE).cache()\n",
    "train = train.shuffle(buffer_size=16384, reshuffle_each_iteration=True) # 2^14, A bit more than half the train set\n",
    "# no \"perfect cardinality shuffle\" here to save time\n",
    "train = train.map(augment_waveform_tf, num_parallel_calls=tf.data.AUTOTUNE)\n",
    "train = train.map(preprocess_mel_db_tf, num_parallel_calls=tf.data.AUTOTUNE)\n",
    "train = train.map(augment_spec_tf, num_parallel_calls=tf.data.AUTOTUNE)\n",
    "'''\n",
    "train = train.map(preprocess_mel_db_tf, num_parallel_calls=tf.data.AUTOTUNE)\n",
    "train = train.shuffle(buffer_size=16384, reshuffle_each_iteration=True) # shuffle with larger buffer size every epoch because no augmentations\n",
    "'''\n",
    "val = tf.data.Dataset.from_tensor_slices((v_filepaths, v_labels))\n",
    "# no shuffling of val every epoch\n",
    "val = val.map(load_wav_8k_mono_tf, num_parallel_calls=tf.data.AUTOTUNE)\n",
    "val = val.map(preprocess_mel_db_tf, num_parallel_calls=tf.data.AUTOTUNE)\n",
    "val = val.map(expand_spec_dim_tf, num_parallel_calls=tf.data.AUTOTUNE)\n",
    "\n",
    "val = val.cache() # no dynamic augmentation but it doesn't matter because no augmentation"
   ]
  },
  {
   "cell_type": "markdown",
   "id": "b55209da",
   "metadata": {
    "id": "b55209da",
    "jp-MarkdownHeadingCollapsed": true
   },
   "source": [
    "### Visualize Input Data"
   ]
  },
  {
   "cell_type": "code",
   "execution_count": null,
   "id": "e99e8e00",
   "metadata": {
    "id": "e99e8e00"
   },
   "outputs": [],
   "source": [
    "for batch in train.take(1):\n",
    "    spec = batch[0]\n",
    "    label = batch[1]\n",
    "    if label==0:\n",
    "        spec, label = spec.numpy(), label.numpy()\n",
    "        print(f'Label: {label} | Spectrogram shape: {spec.shape}')\n",
    "        plt.imshow(tf.transpose(spec)[0])\n",
    "        plt.xlabel(f'Class {label} Time Bins')\n",
    "        plt.ylabel('Mel-frequency Bins')\n",
    "        plt.show()"
   ]
  },
  {
   "cell_type": "code",
   "execution_count": null,
   "id": "99245f7e",
   "metadata": {
    "id": "99245f7e",
    "outputId": "b4039828-3083-4060-dbdd-1347b74422bf"
   },
   "outputs": [],
   "source": [
    "for batch in val.take(12):\n",
    "    spec = batch[0]\n",
    "    label = batch[1]\n",
    "    if label==0:\n",
    "        spec, label = spec.numpy(), label.numpy()\n",
    "        print(f'Label: {label} | Spectrogram shape: {spec.shape}')\n",
    "        plt.imshow(tf.transpose(spec)[0])\n",
    "        plt.xlabel(f'Class {label} Time Bins')\n",
    "        plt.ylabel('Mel-frequency Bins')\n",
    "        plt.show()"
   ]
  },
  {
   "cell_type": "code",
   "execution_count": null,
   "id": "50655be8",
   "metadata": {
    "id": "50655be8",
    "outputId": "4c060ed0-10a2-4bff-b6f5-cda6acd7a9a3"
   },
   "outputs": [],
   "source": [
    "for batch in train.take(12):\n",
    "    spec = batch[0]\n",
    "    label = batch[1]\n",
    "    if label==1:\n",
    "        spec, label = spec.numpy(), label.numpy()\n",
    "        print(f'Label: {label} | Spectrogram shape: {spec.shape}')\n",
    "        plt.imshow(tf.transpose(spec)[0])\n",
    "        plt.xlabel(f'Class {label} Time Bins')\n",
    "        plt.ylabel('Mel-frequency Bins')\n",
    "        plt.show()"
   ]
  },
  {
   "cell_type": "code",
   "execution_count": null,
   "id": "ca448cfc",
   "metadata": {
    "id": "ca448cfc",
    "outputId": "6c37791b-e681-4e42-dadb-5077ef9b7293"
   },
   "outputs": [],
   "source": [
    "for batch in val.take(128):\n",
    "    spec = batch[0]\n",
    "    label = batch[1]\n",
    "    if label==1:\n",
    "        spec, label = spec.numpy(), label.numpy()\n",
    "        print(f'Label: {label} | Spectrogram shape: {spec.shape}')\n",
    "        plt.imshow(tf.transpose(spec)[0])\n",
    "        plt.xlabel(f'Class {label} Time Bins')\n",
    "        plt.ylabel('Mel-frequency Bins')\n",
    "        plt.show()"
   ]
  },
  {
   "cell_type": "markdown",
   "id": "0e1cda41",
   "metadata": {
    "id": "0e1cda41"
   },
   "source": [
    "### Batch and Prefetch"
   ]
  },
  {
   "cell_type": "code",
   "execution_count": 44,
   "id": "6aebf4d7",
   "metadata": {
    "id": "6aebf4d7"
   },
   "outputs": [],
   "source": [
    "def set_shapes(x, y):\n",
    "    x.set_shape([None, 249, 64, 1])  # [batch_size, height, width, channel]\n",
    "    y.set_shape([None])\n",
    "    return x, y\n",
    "\n",
    "train = train.batch(64)\n",
    "train = train.prefetch(tf.data.AUTOTUNE)\n",
    "val = val.batch(64)\n",
    "val = val.prefetch(tf.data.AUTOTUNE)"
   ]
  },
  {
   "cell_type": "code",
   "execution_count": 25,
   "id": "4be299cb",
   "metadata": {
    "colab": {
     "base_uri": "https://localhost:8080/"
    },
    "id": "4be299cb",
    "outputId": "77fed2c9-70a7-49ad-fe77-97d9f16014ed"
   },
   "outputs": [
    {
     "name": "stdout",
     "output_type": "stream",
     "text": [
      "(TensorSpec(shape=<unknown>, dtype=tf.float32, name=None), TensorSpec(shape=(None,), dtype=tf.float32, name=None))\n",
      "x_batch shape: (64, 249, 64, 1)\n",
      "y_batch shape: (64,)\n"
     ]
    }
   ],
   "source": [
    "print(train.element_spec)\n",
    "for x_batch, y_batch in train.take(1):\n",
    "    print(\"x_batch shape:\", x_batch.shape)\n",
    "    print(\"y_batch shape:\", y_batch.shape)"
   ]
  },
  {
   "cell_type": "markdown",
   "id": "d2f66c81",
   "metadata": {
    "id": "d2f66c81"
   },
   "source": [
    "### Define and Train Model"
   ]
  },
  {
   "cell_type": "code",
   "execution_count": 23,
   "id": "4Vc31STr5VMp",
   "metadata": {
    "colab": {
     "base_uri": "https://localhost:8080/"
    },
    "id": "4Vc31STr5VMp",
    "outputId": "4b4534a3-9091-45cc-a70f-d0d8157dc1cb"
   },
   "outputs": [
    {
     "name": "stdout",
     "output_type": "stream",
     "text": [
      "Total RAM:     34.29 GB\n",
      "Available RAM: 19.72 GB\n",
      "Used RAM:      14.57 GB\n",
      "RAM Usage:     42.5%\n"
     ]
    }
   ],
   "source": [
    "mem = psutil.virtual_memory()\n",
    "print(f\"Total RAM:     {mem.total / 1e9:.2f} GB\")\n",
    "print(f\"Available RAM: {mem.available / 1e9:.2f} GB\")\n",
    "print(f\"Used RAM:      {mem.used / 1e9:.2f} GB\")\n",
    "print(f\"RAM Usage:     {mem.percent}%\")"
   ]
  },
  {
   "cell_type": "code",
   "execution_count": 37,
   "id": "ce87e322-d620-4811-8537-4922d69d6069",
   "metadata": {},
   "outputs": [
    {
     "name": "stdout",
     "output_type": "stream",
     "text": [
      "Model: \"model\"\n",
      "_________________________________________________________________\n",
      " Layer (type)                Output Shape              Param #   \n",
      "=================================================================\n",
      " input_1 (InputLayer)        [(None, 249, 64, 1)]      0         \n",
      "                                                                 \n",
      " separable_conv2d (Separable  (None, 249, 64, 64)      177       \n",
      " Conv2D)                                                         \n",
      "                                                                 \n",
      " batch_normalization (BatchN  (None, 249, 64, 64)      256       \n",
      " ormalization)                                                   \n",
      "                                                                 \n",
      " activation (Activation)     (None, 249, 64, 64)       0         \n",
      "                                                                 \n",
      " separable_conv2d_1 (Separab  (None, 249, 64, 64)      5760      \n",
      " leConv2D)                                                       \n",
      "                                                                 \n",
      " batch_normalization_1 (Batc  (None, 249, 64, 64)      256       \n",
      " hNormalization)                                                 \n",
      "                                                                 \n",
      " activation_1 (Activation)   (None, 249, 64, 64)       0         \n",
      "                                                                 \n",
      " separable_conv2d_2 (Separab  (None, 249, 64, 64)      4736      \n",
      " leConv2D)                                                       \n",
      "                                                                 \n",
      " batch_normalization_2 (Batc  (None, 249, 64, 64)      256       \n",
      " hNormalization)                                                 \n",
      "                                                                 \n",
      " activation_2 (Activation)   (None, 249, 64, 64)       0         \n",
      "                                                                 \n",
      " max_pooling2d (MaxPooling2D  (None, 124, 32, 64)      0         \n",
      " )                                                               \n",
      "                                                                 \n",
      " reshape (Reshape)           (None, 124, 2048)         0         \n",
      "                                                                 \n",
      " conv1d (Conv1D)             (None, 124, 128)          786560    \n",
      "                                                                 \n",
      " conv1d_1 (Conv1D)           (None, 124, 128)          49280     \n",
      "                                                                 \n",
      " conv1d_2 (Conv1D)           (None, 124, 128)          49280     \n",
      "                                                                 \n",
      " max_pooling1d (MaxPooling1D  (None, 62, 128)          0         \n",
      " )                                                               \n",
      "                                                                 \n",
      " gru (GRU)                   (None, 62, 64)            37248     \n",
      "                                                                 \n",
      " global_max_pooling1d (Globa  (None, 64)               0         \n",
      " lMaxPooling1D)                                                  \n",
      "                                                                 \n",
      " dense (Dense)               (None, 64)                4160      \n",
      "                                                                 \n",
      " dense_1 (Dense)             (None, 1)                 65        \n",
      "                                                                 \n",
      "=================================================================\n",
      "Total params: 938,034\n",
      "Trainable params: 937,650\n",
      "Non-trainable params: 384\n",
      "_________________________________________________________________\n"
     ]
    }
   ],
   "source": [
    "from tensorflow import keras\n",
    "from keras import layers\n",
    "\n",
    "inputs = layers.Input(shape=(249,64,1))\n",
    "x = inputs\n",
    "\n",
    "# Conv2D Stack\n",
    "x = layers.SeparableConv2D(64, (7, 7), padding='same')(x)\n",
    "x = layers.BatchNormalization()(x)\n",
    "x = layers.Activation('relu')(x)\n",
    "\n",
    "x = layers.SeparableConv2D(64, (5, 5), padding='same')(x)\n",
    "x = layers.BatchNormalization()(x)\n",
    "x = layers.Activation('relu')(x)\n",
    "\n",
    "x = layers.SeparableConv2D(64, (3, 3), padding='same')(x)\n",
    "x = layers.BatchNormalization()(x)\n",
    "x = layers.Activation('relu')(x)\n",
    "\n",
    "x = layers.MaxPooling2D(pool_size=(2,2))(x)\n",
    "\n",
    "# Reshape for Conv1D\n",
    "time_steps = x.shape[1]\n",
    "freq_bins = x.shape[2]\n",
    "channels = x.shape[3]\n",
    "x = layers.Reshape((time_steps, freq_bins * channels))(x)\n",
    "\n",
    "# Conv1D stack\n",
    "x = layers.Conv1D(filters=128, kernel_size=3, activation='relu', padding='same')(x)\n",
    "x = layers.Conv1D(filters=128, kernel_size=3, activation='relu', padding='same')(x)\n",
    "x = layers.Conv1D(filters=128, kernel_size=3, activation='relu', padding='same')(x)\n",
    "\n",
    "x = layers.MaxPooling1D(pool_size=(2))(x)\n",
    "\n",
    "# GRU layer\n",
    "x = layers.GRU(64, return_sequences=True)(x)\n",
    "\n",
    "# Global Max Pooling\n",
    "x = layers.GlobalMaxPooling1D()(x)\n",
    "\n",
    "x = layers.Dense(64)(x)\n",
    "outputs = layers.Dense(1, activation='sigmoid')(x)\n",
    "\n",
    "model = Model(inputs, outputs)\n",
    "\n",
    "model.compile(\n",
    "    optimizer=tf.keras.optimizers.Adam(1e-4),\n",
    "    loss=tf.keras.losses.BinaryCrossentropy(),\n",
    "    metrics=[\n",
    "        tf.keras.metrics.BinaryAccuracy(),\n",
    "        tf.keras.metrics.Precision(),\n",
    "        tf.keras.metrics.Recall(),\n",
    "        tf.keras.metrics.AUC(curve='PR', name='AUC_PR')\n",
    "    ]\n",
    ")\n",
    "\n",
    "model.summary()"
   ]
  },
  {
   "cell_type": "code",
   "execution_count": 31,
   "id": "796cc471-2b7b-48ca-96b3-78a811d2dda2",
   "metadata": {
    "scrolled": true
   },
   "outputs": [
    {
     "name": "stdout",
     "output_type": "stream",
     "text": [
      "Epoch 1/40\n",
      "450/450 [==============================] - 219s 455ms/step - loss: 0.0908 - binary_accuracy: 0.9783 - precision: 0.0323 - recall: 0.0017 - AUC_PR: 0.0779 - val_loss: 0.0793 - val_binary_accuracy: 0.9791 - val_precision: 0.0000e+00 - val_recall: 0.0000e+00 - val_AUC_PR: 0.2622\n",
      "Epoch 2/40\n",
      "450/450 [==============================] - 202s 448ms/step - loss: 0.0711 - binary_accuracy: 0.9801 - precision: 0.8529 - recall: 0.0486 - AUC_PR: 0.3007 - val_loss: 0.0565 - val_binary_accuracy: 0.9791 - val_precision: 0.5000 - val_recall: 0.1200 - val_AUC_PR: 0.4474\n",
      "Epoch 3/40\n",
      "450/450 [==============================] - 177s 393ms/step - loss: 0.0556 - binary_accuracy: 0.9841 - precision: 0.8382 - recall: 0.2864 - AUC_PR: 0.5258 - val_loss: 0.0465 - val_binary_accuracy: 0.9857 - val_precision: 0.9123 - val_recall: 0.3467 - val_AUC_PR: 0.6964\n",
      "Epoch 4/40\n",
      "450/450 [==============================] - 191s 423ms/step - loss: 0.0441 - binary_accuracy: 0.9865 - precision: 0.8215 - recall: 0.4472 - AUC_PR: 0.6636 - val_loss: 0.0353 - val_binary_accuracy: 0.9900 - val_precision: 0.9643 - val_recall: 0.5400 - val_AUC_PR: 0.8167\n",
      "Epoch 5/40\n",
      "450/450 [==============================] - 191s 423ms/step - loss: 0.0381 - binary_accuracy: 0.9886 - precision: 0.8409 - recall: 0.5578 - AUC_PR: 0.7322 - val_loss: 0.0272 - val_binary_accuracy: 0.9907 - val_precision: 0.9462 - val_recall: 0.5867 - val_AUC_PR: 0.8781\n",
      "Epoch 6/40\n",
      "450/450 [==============================] - 174s 387ms/step - loss: 0.0338 - binary_accuracy: 0.9898 - precision: 0.8535 - recall: 0.6147 - AUC_PR: 0.7797 - val_loss: 0.0378 - val_binary_accuracy: 0.9886 - val_precision: 0.9722 - val_recall: 0.4667 - val_AUC_PR: 0.8383\n",
      "Epoch 7/40\n",
      "450/450 [==============================] - 189s 420ms/step - loss: 0.0301 - binary_accuracy: 0.9903 - precision: 0.8415 - recall: 0.6583 - AUC_PR: 0.8128 - val_loss: 0.0198 - val_binary_accuracy: 0.9935 - val_precision: 0.9478 - val_recall: 0.7267 - val_AUC_PR: 0.9180\n",
      "Epoch 8/40\n",
      "450/450 [==============================] - 188s 417ms/step - loss: 0.0283 - binary_accuracy: 0.9920 - precision: 0.8879 - recall: 0.7035 - AUC_PR: 0.8348 - val_loss: 0.0207 - val_binary_accuracy: 0.9951 - val_precision: 0.9528 - val_recall: 0.8067 - val_AUC_PR: 0.9125\n",
      "Epoch 9/40\n",
      "450/450 [==============================] - 189s 419ms/step - loss: 0.0262 - binary_accuracy: 0.9913 - precision: 0.8619 - recall: 0.6901 - AUC_PR: 0.8489 - val_loss: 0.0238 - val_binary_accuracy: 0.9944 - val_precision: 0.8767 - val_recall: 0.8533 - val_AUC_PR: 0.9034\n",
      "Epoch 10/40\n",
      "450/450 [==============================] - 190s 421ms/step - loss: 0.0242 - binary_accuracy: 0.9921 - precision: 0.8760 - recall: 0.7219 - AUC_PR: 0.8682 - val_loss: 0.0185 - val_binary_accuracy: 0.9944 - val_precision: 0.9911 - val_recall: 0.7400 - val_AUC_PR: 0.9322\n",
      "Epoch 11/40\n",
      "450/450 [==============================] - 187s 414ms/step - loss: 0.0229 - binary_accuracy: 0.9929 - precision: 0.8889 - recall: 0.7504 - AUC_PR: 0.8800 - val_loss: 0.0250 - val_binary_accuracy: 0.9914 - val_precision: 0.9231 - val_recall: 0.6400 - val_AUC_PR: 0.8956\n",
      "Epoch 12/40\n",
      "450/450 [==============================] - 177s 393ms/step - loss: 0.0201 - binary_accuracy: 0.9933 - precision: 0.8887 - recall: 0.7755 - AUC_PR: 0.8982 - val_loss: 0.0212 - val_binary_accuracy: 0.9946 - val_precision: 0.9051 - val_recall: 0.8267 - val_AUC_PR: 0.9124\n",
      "Epoch 13/40\n",
      "450/450 [==============================] - 192s 427ms/step - loss: 0.0207 - binary_accuracy: 0.9932 - precision: 0.8817 - recall: 0.7739 - AUC_PR: 0.8922 - val_loss: 0.0253 - val_binary_accuracy: 0.9923 - val_precision: 0.9524 - val_recall: 0.6667 - val_AUC_PR: 0.8754\n",
      "Epoch 14/40\n",
      "450/450 [==============================] - 188s 418ms/step - loss: 0.0185 - binary_accuracy: 0.9941 - precision: 0.9036 - recall: 0.8007 - AUC_PR: 0.9135 - val_loss: 0.0245 - val_binary_accuracy: 0.9932 - val_precision: 0.8531 - val_recall: 0.8133 - val_AUC_PR: 0.8912\n",
      "Epoch 15/40\n",
      "450/450 [==============================] - 207s 458ms/step - loss: 0.0177 - binary_accuracy: 0.9942 - precision: 0.8980 - recall: 0.8107 - AUC_PR: 0.9213 - val_loss: 0.0209 - val_binary_accuracy: 0.9946 - val_precision: 0.9370 - val_recall: 0.7933 - val_AUC_PR: 0.8981\n",
      "Epoch 16/40\n",
      "450/450 [==============================] - 199s 441ms/step - loss: 0.0191 - binary_accuracy: 0.9939 - precision: 0.9040 - recall: 0.7889 - AUC_PR: 0.9037 - val_loss: 0.0228 - val_binary_accuracy: 0.9937 - val_precision: 0.9134 - val_recall: 0.7733 - val_AUC_PR: 0.8981\n",
      "Epoch 17/40\n",
      "450/450 [==============================] - 197s 438ms/step - loss: 0.0161 - binary_accuracy: 0.9954 - precision: 0.9280 - recall: 0.8425 - AUC_PR: 0.9322 - val_loss: 0.0201 - val_binary_accuracy: 0.9946 - val_precision: 0.8405 - val_recall: 0.9133 - val_AUC_PR: 0.9368\n",
      "Epoch 18/40\n",
      "450/450 [==============================] - 183s 406ms/step - loss: 0.0164 - binary_accuracy: 0.9947 - precision: 0.9157 - recall: 0.8191 - AUC_PR: 0.9289 - val_loss: 0.0235 - val_binary_accuracy: 0.9949 - val_precision: 0.9669 - val_recall: 0.7800 - val_AUC_PR: 0.8903\n",
      "Epoch 19/40\n",
      "450/450 [==============================] - 193s 429ms/step - loss: 0.0136 - binary_accuracy: 0.9957 - precision: 0.9372 - recall: 0.8492 - AUC_PR: 0.9474 - val_loss: 0.0260 - val_binary_accuracy: 0.9911 - val_precision: 0.7337 - val_recall: 0.9000 - val_AUC_PR: 0.9236\n",
      "Epoch 20/40\n",
      "450/450 [==============================] - 193s 429ms/step - loss: 0.0147 - binary_accuracy: 0.9954 - precision: 0.9128 - recall: 0.8593 - AUC_PR: 0.9384 - val_loss: 0.0203 - val_binary_accuracy: 0.9926 - val_precision: 0.8702 - val_recall: 0.7600 - val_AUC_PR: 0.9042\n",
      "Epoch 21/40\n",
      "450/450 [==============================] - 192s 427ms/step - loss: 0.0142 - binary_accuracy: 0.9958 - precision: 0.9281 - recall: 0.8643 - AUC_PR: 0.9408 - val_loss: 0.0163 - val_binary_accuracy: 0.9954 - val_precision: 0.9149 - val_recall: 0.8600 - val_AUC_PR: 0.9311\n",
      "Epoch 22/40\n",
      "450/450 [==============================] - 190s 421ms/step - loss: 0.0140 - binary_accuracy: 0.9956 - precision: 0.9257 - recall: 0.8559 - AUC_PR: 0.9470 - val_loss: 0.0758 - val_binary_accuracy: 0.9662 - val_precision: 0.3644 - val_recall: 0.8333 - val_AUC_PR: 0.7945\n",
      "Epoch 23/40\n",
      "450/450 [==============================] - 188s 416ms/step - loss: 0.0130 - binary_accuracy: 0.9957 - precision: 0.9111 - recall: 0.8760 - AUC_PR: 0.9505 - val_loss: 0.0184 - val_binary_accuracy: 0.9951 - val_precision: 0.9137 - val_recall: 0.8467 - val_AUC_PR: 0.9168\n",
      "Epoch 24/40\n",
      "450/450 [==============================] - 188s 418ms/step - loss: 0.0125 - binary_accuracy: 0.9961 - precision: 0.9292 - recall: 0.8794 - AUC_PR: 0.9547 - val_loss: 0.0176 - val_binary_accuracy: 0.9957 - val_precision: 0.9343 - val_recall: 0.8533 - val_AUC_PR: 0.9240\n",
      "Epoch 25/40\n",
      "450/450 [==============================] - 189s 420ms/step - loss: 0.0115 - binary_accuracy: 0.9966 - precision: 0.9480 - recall: 0.8861 - AUC_PR: 0.9591 - val_loss: 0.0199 - val_binary_accuracy: 0.9942 - val_precision: 0.8293 - val_recall: 0.9067 - val_AUC_PR: 0.9343\n",
      "Epoch 26/40\n",
      "450/450 [==============================] - 194s 431ms/step - loss: 0.0104 - binary_accuracy: 0.9962 - precision: 0.9312 - recall: 0.8844 - AUC_PR: 0.9679 - val_loss: 0.0261 - val_binary_accuracy: 0.9923 - val_precision: 0.8322 - val_recall: 0.7933 - val_AUC_PR: 0.8712\n",
      "Epoch 27/40\n",
      "450/450 [==============================] - 189s 420ms/step - loss: 0.0095 - binary_accuracy: 0.9968 - precision: 0.9453 - recall: 0.8978 - AUC_PR: 0.9689 - val_loss: 0.0159 - val_binary_accuracy: 0.9954 - val_precision: 0.9270 - val_recall: 0.8467 - val_AUC_PR: 0.9329\n",
      "Epoch 28/40\n",
      "450/450 [==============================] - 191s 425ms/step - loss: 0.0119 - binary_accuracy: 0.9962 - precision: 0.9325 - recall: 0.8794 - AUC_PR: 0.9568 - val_loss: 0.0237 - val_binary_accuracy: 0.9937 - val_precision: 0.9487 - val_recall: 0.7400 - val_AUC_PR: 0.8877\n",
      "Epoch 29/40\n",
      "450/450 [==============================] - 191s 424ms/step - loss: 0.0105 - binary_accuracy: 0.9964 - precision: 0.9303 - recall: 0.8945 - AUC_PR: 0.9666 - val_loss: 0.0166 - val_binary_accuracy: 0.9955 - val_precision: 0.9155 - val_recall: 0.8667 - val_AUC_PR: 0.9323\n",
      "Epoch 30/40\n",
      "450/450 [==============================] - 190s 421ms/step - loss: 0.0094 - binary_accuracy: 0.9972 - precision: 0.9558 - recall: 0.9062 - AUC_PR: 0.9709 - val_loss: 0.0174 - val_binary_accuracy: 0.9955 - val_precision: 0.9609 - val_recall: 0.8200 - val_AUC_PR: 0.9374\n",
      "Epoch 31/40\n",
      "450/450 [==============================] - 190s 421ms/step - loss: 0.0108 - binary_accuracy: 0.9966 - precision: 0.9416 - recall: 0.8911 - AUC_PR: 0.9625 - val_loss: 0.0187 - val_binary_accuracy: 0.9949 - val_precision: 0.9248 - val_recall: 0.8200 - val_AUC_PR: 0.9189\n",
      "Epoch 32/40\n",
      "450/450 [==============================] - 189s 418ms/step - loss: 0.0101 - binary_accuracy: 0.9969 - precision: 0.9472 - recall: 0.9012 - AUC_PR: 0.9653 - val_loss: 0.0433 - val_binary_accuracy: 0.9841 - val_precision: 0.5783 - val_recall: 0.8867 - val_AUC_PR: 0.8953\n",
      "Epoch 33/40\n",
      "450/450 [==============================] - 193s 427ms/step - loss: 0.0106 - binary_accuracy: 0.9970 - precision: 0.9413 - recall: 0.9129 - AUC_PR: 0.9618 - val_loss: 0.0181 - val_binary_accuracy: 0.9950 - val_precision: 0.9014 - val_recall: 0.8533 - val_AUC_PR: 0.9280\n",
      "Epoch 34/40\n",
      "450/450 [==============================] - 181s 401ms/step - loss: 0.0104 - binary_accuracy: 0.9969 - precision: 0.9455 - recall: 0.9012 - AUC_PR: 0.9650 - val_loss: 0.0196 - val_binary_accuracy: 0.9949 - val_precision: 0.9380 - val_recall: 0.8067 - val_AUC_PR: 0.9106\n",
      "Epoch 35/40\n",
      "450/450 [==============================] - 191s 424ms/step - loss: 0.0097 - binary_accuracy: 0.9969 - precision: 0.9457 - recall: 0.9045 - AUC_PR: 0.9699 - val_loss: 0.0300 - val_binary_accuracy: 0.9897 - val_precision: 0.6845 - val_recall: 0.9400 - val_AUC_PR: 0.9369\n",
      "Epoch 36/40\n",
      "450/450 [==============================] - 196s 435ms/step - loss: 0.0100 - binary_accuracy: 0.9967 - precision: 0.9344 - recall: 0.9062 - AUC_PR: 0.9623 - val_loss: 0.0215 - val_binary_accuracy: 0.9950 - val_precision: 0.9130 - val_recall: 0.8400 - val_AUC_PR: 0.9078\n",
      "Epoch 37/40\n",
      "450/450 [==============================] - 191s 423ms/step - loss: 0.0088 - binary_accuracy: 0.9973 - precision: 0.9512 - recall: 0.9146 - AUC_PR: 0.9736 - val_loss: 0.0204 - val_binary_accuracy: 0.9950 - val_precision: 0.9318 - val_recall: 0.8200 - val_AUC_PR: 0.9091\n",
      "Epoch 38/40\n",
      "450/450 [==============================] - 190s 421ms/step - loss: 0.0108 - binary_accuracy: 0.9968 - precision: 0.9454 - recall: 0.8995 - AUC_PR: 0.9616 - val_loss: 0.0138 - val_binary_accuracy: 0.9961 - val_precision: 0.9357 - val_recall: 0.8733 - val_AUC_PR: 0.9406\n",
      "Epoch 39/40\n",
      "450/450 [==============================] - 179s 398ms/step - loss: 0.0087 - binary_accuracy: 0.9975 - precision: 0.9566 - recall: 0.9229 - AUC_PR: 0.9718 - val_loss: 0.0299 - val_binary_accuracy: 0.9904 - val_precision: 0.7189 - val_recall: 0.8867 - val_AUC_PR: 0.8896\n",
      "Epoch 40/40\n",
      "450/450 [==============================] - 189s 420ms/step - loss: 0.0082 - binary_accuracy: 0.9973 - precision: 0.9514 - recall: 0.9179 - AUC_PR: 0.9763 - val_loss: 0.0274 - val_binary_accuracy: 0.9917 - val_precision: 0.7778 - val_recall: 0.8400 - val_AUC_PR: 0.8801\n"
     ]
    }
   ],
   "source": [
    "checkpoint = tf.keras.callbacks.ModelCheckpoint('one_shot_GRU_light_augment_40E.keras',save_best_only=True)\n",
    "hist = model.fit(train, epochs=40, validation_data=val, callbacks=[checkpoint])"
   ]
  },
  {
   "cell_type": "code",
   "execution_count": 27,
   "id": "9a66d9e4-a3f0-4120-b30a-7229105cf3ff",
   "metadata": {},
   "outputs": [],
   "source": [
    "loaded_model = tf.keras.models.load_model('one_shot_GRU_light_augment_40E.keras')"
   ]
  },
  {
   "cell_type": "code",
   "execution_count": null,
   "id": "522f0643",
   "metadata": {},
   "outputs": [
    {
     "name": "stdout",
     "output_type": "stream",
     "text": [
      "Time to build and fetch one batch: 1.22s\n",
      "Time to process files and perform inference: 51.29063034057617\n"
     ]
    },
    {
     "data": {
      "image/png": "[encoded data removed]",
      "text/plain": [
       "<Figure size 1000x600 with 1 Axes>"
      ]
     },
     "metadata": {},
     "output_type": "display_data"
    }
   ],
   "source": [
    "preds = get_preds(v_filepaths, loaded_model)\n",
    "th = get_pr_curve(v_labels, preds, False, 'one_shot_GRU_light_augment_40E')\n",
    "get_metrics_custom(v_labels, preds, v_filepaths, th, False, False, 0, False, 0, 'one_shot_GRU_light_augment_40E')"
   ]
  },
  {
   "cell_type": "code",
   "execution_count": 52,
   "id": "36ccf90e-d8b3-4aa1-a8b9-b6142dfbc5e4",
   "metadata": {},
   "outputs": [
    {
     "name": "stderr",
     "output_type": "stream",
     "text": [
      "WARNING:absl:Found untraced functions such as gru_cell_5_layer_call_fn, gru_cell_5_layer_call_and_return_conditional_losses while saving (showing 2 of 2). These functions will not be directly callable after loading.\n"
     ]
    }
   ],
   "source": [
    "# Load your trained model\n",
    "loaded_model = tf.keras.models.load_model('one_shot_GRU_light_augment_40E.keras')\n",
    "\n",
    "# Wrap in a tf.function and trace it\n",
    "@tf.function(input_signature=[tf.TensorSpec(shape=[1, 249, 64, 1], dtype=tf.float32)])\n",
    "def wrapped_model(input_tensor):\n",
    "    return loaded_model(input_tensor)\n",
    "\n",
    "# Convert using the concrete function\n",
    "concrete_func = wrapped_model.get_concrete_function()\n",
    "converter = tf.lite.TFLiteConverter.from_concrete_functions(\n",
    "    [concrete_func], trackable_obj=loaded_model)\n",
    "\n",
    "converter.optimizations = [tf.lite.Optimize.DEFAULT]\n",
    "converter.target_spec.supported_ops = [tf.lite.OpsSet.TFLITE_BUILTINS]\n",
    "\n",
    "# Try leaving out SELECT_TF_OPS here\n",
    "tflite_model = converter.convert()\n",
    "\n",
    "with open('one-shot-gru_40E.tflite', 'wb') as f:\n",
    "    f.write(tflite_model)"
   ]
  }
 ],
 "metadata": {
  "accelerator": "GPU",
  "colab": {
   "collapsed_sections": [
    "b55209da"
   ],
   "gpuType": "T4",
   "provenance": [],
   "toc_visible": true
  },
  "kernelspec": {
   "display_name": "gunshot_tf",
   "language": "python",
   "name": "python3"
  },
  "language_info": {
   "codemirror_mode": {
    "name": "ipython",
    "version": 3
   },
   "file_extension": ".py",
   "mimetype": "text/x-python",
   "name": "python",
   "nbconvert_exporter": "python",
   "pygments_lexer": "ipython3",
   "version": "3.10.2"
  }
 },
 "nbformat": 4,
 "nbformat_minor": 5
}
